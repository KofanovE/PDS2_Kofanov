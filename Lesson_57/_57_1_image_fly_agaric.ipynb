{
 "cells": [
  {
   "cell_type": "markdown",
   "id": "be7b6314",
   "metadata": {},
   "source": [
    "**Завдання:**\n",
    "\n",
    "Можна використовувати бібліотеку PIL або бібліотеку openCV\n",
    "\n",
    "1. Створіть функцію для зчитування зображення з диску та його відображення на екрані.\n",
    "2. Створіть функцію для збереження зображення на диск.\n",
    "3. Створіть функцію для реалізації наступних піксельних операцій:\n",
    "\n",
    "- зміна контрастності (задання коефіцієнту контрастності та яскравості);\n",
    "- зміна яскравості (задання коефіцієнту яскравості);\n",
    "- зміна насиченості (задання коефіцієнту насиченності);\n",
    "- зміна розміру зображення (задання нової ширини та висоти);\n",
    "- обрізання зображення (задання координат початку та кінця обрізання);\n",
    "- поворот зображення на заданий кут (задання кута повороту в градусах)."
   ]
  },
  {
   "cell_type": "code",
   "execution_count": 1,
   "id": "76d4a666",
   "metadata": {},
   "outputs": [],
   "source": [
    "import cv2"
   ]
  },
  {
   "cell_type": "code",
   "execution_count": 2,
   "id": "d5e987ed",
   "metadata": {},
   "outputs": [],
   "source": [
    "def show_image(file_path):\n",
    "    img = cv2.imread(file_path)\n",
    "    cv2.imshow('image', img)\n",
    "    cv2.waitKey(0)\n",
    "    cv2.destroyAllWindows()"
   ]
  },
  {
   "cell_type": "code",
   "execution_count": 12,
   "id": "5d7763c1",
   "metadata": {},
   "outputs": [],
   "source": [
    "show_image('Fly_agaric.jpg')"
   ]
  },
  {
   "cell_type": "code",
   "execution_count": 13,
   "id": "b661d7ac",
   "metadata": {},
   "outputs": [],
   "source": [
    "def save_image(file_path, new_file_name):\n",
    "    img = cv2.imread(file_path)\n",
    "    new_file_path = new_file_name + '.jpg'\n",
    "    cv2.imwrite(new_file_path, img)"
   ]
  },
  {
   "cell_type": "code",
   "execution_count": 14,
   "id": "e9f73e4c",
   "metadata": {},
   "outputs": [],
   "source": [
    "save_image('Fly_agaric.jpg', 'Fly_agaric_new_name')"
   ]
  },
  {
   "cell_type": "code",
   "execution_count": 43,
   "id": "f7514a6b",
   "metadata": {},
   "outputs": [],
   "source": [
    "def modify_image(file_path, \n",
    "                 contrast=1.0,\n",
    "                 brightness=0,\n",
    "                 saturation=1.0,\n",
    "                 width=None,\n",
    "                 height=None,\n",
    "                 crop=None,\n",
    "                 angle=None,\n",
    "                 new_file_name=None\n",
    "                 ):\n",
    "    \n",
    "    img = cv2.imread(file_path)\n",
    "    \n",
    "    if contrast != 1.0 and brightness != 0:\n",
    "        img = cv2.convertScaleAbs(img, alpha=contrast, beta=brightness)\n",
    "    elif contrast != 1.0:\n",
    "        img = cv2.convertScaleAbs(img, alpha=contrast, beta=0)   \n",
    "    elif brightness != 0:\n",
    "        img = cv2.convertScaleAbs(img, alpha=1.0, beta=brightness)\n",
    "        \n",
    "    if saturation != 1.0:\n",
    "        img_hsv = cv2.cvtColor(img, cv2.COLOR_BGR2HSV)\n",
    "        img_hsv[..., 1] = img_hsv[..., 1] * saturation\n",
    "        img = cv2.cvtColor(img_hsv, cv2.COLOR_HSV2BGR)\n",
    "     \n",
    "    if width is not None and height is not None:\n",
    "        img = cv2.resize(img, (width, height))\n",
    "                \n",
    "    if angle is not None:\n",
    "        (h, w) = img.shape[:2]\n",
    "        center = (w/2, h/2)\n",
    "        M = cv2.getRotationMatrix2D(center, angle, 1.0)\n",
    "        img = cv2.warpAffine(img, M, (w, h))\n",
    "        \n",
    "    if crop is not None:\n",
    "        x, y, w, h = crop\n",
    "        img = img[y:y+h, x:x+w]\n",
    "        \n",
    "\n",
    "        \n",
    "    if new_file_name is not None:\n",
    "        cv2.imwrite(new_file_name, img)\n",
    "        \n",
    "    cv2.imshow('Modified Image', img)\n",
    "    \n",
    "    cv2.waitKey(0)\n",
    "    \n",
    "    cv2.destroyAllWindows()\n",
    "        "
   ]
  },
  {
   "cell_type": "code",
   "execution_count": 48,
   "id": "4412aaa5",
   "metadata": {},
   "outputs": [],
   "source": [
    "modify_image(\"Fly_Agaric_new_name.jpg\",\n",
    "                 contrast=0.9,\n",
    "                 brightness=0.9,\n",
    "                 saturation=0.9,\n",
    "                 width=800,\n",
    "                 height=550,\n",
    "                 crop=(50, 50 , 630, 450),\n",
    "                 angle=5,\n",
    "                 new_file_name='Fly_Agaric_modified.jpg'\n",
    "                 )\n"
   ]
  }
 ],
 "metadata": {
  "kernelspec": {
   "display_name": "Python 3 (ipykernel)",
   "language": "python",
   "name": "python3"
  },
  "language_info": {
   "codemirror_mode": {
    "name": "ipython",
    "version": 3
   },
   "file_extension": ".py",
   "mimetype": "text/x-python",
   "name": "python",
   "nbconvert_exporter": "python",
   "pygments_lexer": "ipython3",
   "version": "3.11.1"
  }
 },
 "nbformat": 4,
 "nbformat_minor": 5
}
