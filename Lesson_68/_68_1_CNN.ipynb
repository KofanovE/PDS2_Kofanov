{
 "cells": [
  {
   "cell_type": "markdown",
   "id": "bf223100",
   "metadata": {},
   "source": [
    "**Завдання:**\n",
    "\n",
    "Створіть модель згорткової нейронної мережі із трома шарами. Підключіть Tensorboard, та відобразіть в ньому зміну розподілу ваг моделі, обчислювальний граф моделі та зміну її метрик."
   ]
  },
  {
   "cell_type": "code",
   "execution_count": 12,
   "id": "7d39a890",
   "metadata": {},
   "outputs": [],
   "source": [
    "import os\n",
    "import numpy as np\n",
    "import tensorflow as tf\n",
    "from tensorflow.keras.preprocessing.image import ImageDataGenerator\n",
    "from tensorflow.keras.models import Sequential\n",
    "from tensorflow.keras.layers import Conv2D, MaxPooling2D, Flatten, Dense, Dropout\n",
    "from tensorflow.keras.callbacks import ModelCheckpoint\n",
    "import datetime"
   ]
  },
  {
   "cell_type": "code",
   "execution_count": 14,
   "id": "e74eca57",
   "metadata": {},
   "outputs": [],
   "source": [
    "%load_ext tensorboard"
   ]
  },
  {
   "cell_type": "code",
   "execution_count": 29,
   "id": "af9432dd",
   "metadata": {},
   "outputs": [],
   "source": [
    "# Определяем путь к папке с датасетом фруктов\n",
    "train_dir = 'C:/Users/админ/PycharmProjects/PDS2/PDS2_Kofanov/My_project/Old_datasets/dataset_train'\n",
    "test_dir = 'C:/Users/админ/PycharmProjects/PDS2/PDS2_Kofanov/My_project/Old_datasets/dataset_test'\n",
    "path_to_save = 'C:/Users/админ/PycharmProjects/PDS2/PDS2_Kofanov/Lesson_68/'"
   ]
  },
  {
   "cell_type": "code",
   "execution_count": 16,
   "id": "fc2ad679",
   "metadata": {},
   "outputs": [],
   "source": [
    "# Определяем параметры для обработки изображений\n",
    "img_width, img_height = 227, 227\n",
    "batch_size = 32"
   ]
  },
  {
   "cell_type": "code",
   "execution_count": 17,
   "id": "19ac6bd8",
   "metadata": {},
   "outputs": [],
   "source": [
    "# Создаем объекты для генерации изображений\n",
    "train_datagen = ImageDataGenerator(rescale=1./255,\n",
    "                                   rotation_range=20,\n",
    "                                   shear_range=0.2,\n",
    "                                   width_shift_range=0.2,\n",
    "                                   height_shift_range=0.2,\n",
    "                                   horizontal_flip=True)\n",
    "test_datagen = ImageDataGenerator(rescale=1./255)"
   ]
  },
  {
   "cell_type": "code",
   "execution_count": 18,
   "id": "0543ae60",
   "metadata": {},
   "outputs": [
    {
     "name": "stdout",
     "output_type": "stream",
     "text": [
      "Found 80 images belonging to 20 classes.\n",
      "Found 20 images belonging to 20 classes.\n"
     ]
    }
   ],
   "source": [
    "# Создаем генераторы изображений для обучения и тестирования модели\n",
    "train_generator = train_datagen.flow_from_directory(train_dir,\n",
    "                                                    target_size=(img_width, img_height),\n",
    "                                                    batch_size=batch_size,\n",
    "                                                    class_mode='categorical')\n",
    "test_generator = test_datagen.flow_from_directory(test_dir,\n",
    "                                                  target_size=(img_width, img_height),\n",
    "                                                  batch_size=batch_size,\n",
    "                                                  class_mode='categorical')"
   ]
  },
  {
   "cell_type": "code",
   "execution_count": 19,
   "id": "b635b7fd",
   "metadata": {},
   "outputs": [],
   "source": [
    "# Определяем архитектуру модели\n",
    "model = Sequential()\n",
    "model.add(Conv2D(32, (3, 3), activation='relu', input_shape=(img_width, img_height, 3)))\n",
    "model.add(MaxPooling2D((2, 2)))\n",
    "model.add(Conv2D(64, (3, 3), activation='relu'))\n",
    "model.add(MaxPooling2D((2, 2)))\n",
    "model.add(Flatten())\n",
    "model.add(Dense(128, activation='relu'))\n",
    "model.add(Dropout(0.5))\n",
    "model.add(Dense(len(os.listdir(train_dir)), activation='softmax'))"
   ]
  },
  {
   "cell_type": "code",
   "execution_count": 20,
   "id": "9e90f7c7",
   "metadata": {},
   "outputs": [],
   "source": [
    "# Компилируем модель\n",
    "model.compile(loss='categorical_crossentropy',\n",
    "              optimizer='adam',\n",
    "              metrics=['accuracy'])\n",
    "\n",
    "model_checkpoint_callback = ModelCheckpoint(\n",
    "    filepath='C:/Users/админ/PycharmProjects/PDS2/PDS2_Kofanov/My_project/Results/{epoch:02d}.h5',\n",
    "    save_weights_only=True,\n",
    "    monitor='val_accuracy',\n",
    "    mode='max',\n",
    "    save_best_only=True\n",
    ")"
   ]
  },
  {
   "cell_type": "code",
   "execution_count": 21,
   "id": "1e843655",
   "metadata": {},
   "outputs": [],
   "source": [
    "logdir = os.path.join(\"logs\", datetime.datetime.now().strftime(\"%Y%m%d-%H%M%S\")) \n",
    "tensorboard_callback = tf.keras.callbacks.TensorBoard(logdir, histogram_freq =  1, write_graph = False,write_images = False)"
   ]
  },
  {
   "cell_type": "code",
   "execution_count": 25,
   "id": "0c83de57",
   "metadata": {},
   "outputs": [
    {
     "name": "stdout",
     "output_type": "stream",
     "text": [
      "Epoch 1/100\n",
      "2/2 [==============================] - 5s 2s/step - loss: 2.7641 - accuracy: 0.0938\n",
      "Epoch 2/100\n",
      "2/2 [==============================] - 4s 1s/step - loss: 2.7230 - accuracy: 0.0833\n",
      "Epoch 3/100\n",
      "2/2 [==============================] - 5s 2s/step - loss: 2.7817 - accuracy: 0.1250\n",
      "Epoch 4/100\n",
      "2/2 [==============================] - 5s 2s/step - loss: 2.5251 - accuracy: 0.2500\n",
      "Epoch 5/100\n",
      "2/2 [==============================] - 4s 2s/step - loss: 2.7026 - accuracy: 0.2292\n",
      "Epoch 6/100\n",
      "2/2 [==============================] - 4s 2s/step - loss: 2.4453 - accuracy: 0.2083\n",
      "Epoch 7/100\n",
      "2/2 [==============================] - 5s 2s/step - loss: 2.6790 - accuracy: 0.1094\n",
      "Epoch 8/100\n",
      "2/2 [==============================] - 5s 2s/step - loss: 2.6788 - accuracy: 0.1406\n",
      "Epoch 9/100\n",
      "2/2 [==============================] - 5s 2s/step - loss: 2.5609 - accuracy: 0.1875\n",
      "Epoch 10/100\n",
      "2/2 [==============================] - 4s 1s/step - loss: 2.4958 - accuracy: 0.1458\n",
      "Epoch 11/100\n",
      "2/2 [==============================] - 4s 3s/step - loss: 2.6165 - accuracy: 0.2083\n",
      "Epoch 12/100\n",
      "2/2 [==============================] - 4s 3s/step - loss: 2.5233 - accuracy: 0.2083\n",
      "Epoch 13/100\n",
      "2/2 [==============================] - 6s 3s/step - loss: 2.4723 - accuracy: 0.1719\n",
      "Epoch 14/100\n",
      "2/2 [==============================] - 5s 1s/step - loss: 2.3939 - accuracy: 0.1250\n",
      "Epoch 15/100\n",
      "2/2 [==============================] - 6s 3s/step - loss: 2.5174 - accuracy: 0.1406\n",
      "Epoch 16/100\n",
      "2/2 [==============================] - 6s 3s/step - loss: 2.3184 - accuracy: 0.2344\n",
      "Epoch 17/100\n",
      "2/2 [==============================] - 6s 4s/step - loss: 2.3361 - accuracy: 0.2708\n",
      "Epoch 18/100\n",
      "2/2 [==============================] - 6s 3s/step - loss: 2.1973 - accuracy: 0.2917\n",
      "Epoch 19/100\n",
      "2/2 [==============================] - 5s 2s/step - loss: 2.2476 - accuracy: 0.3958\n",
      "Epoch 20/100\n",
      "2/2 [==============================] - 6s 4s/step - loss: 2.3970 - accuracy: 0.2500\n",
      "Epoch 21/100\n",
      "2/2 [==============================] - 5s 2s/step - loss: 2.1101 - accuracy: 0.2917\n",
      "Epoch 22/100\n",
      "2/2 [==============================] - 7s 3s/step - loss: 2.3480 - accuracy: 0.3125\n",
      "Epoch 23/100\n",
      "2/2 [==============================] - 6s 2s/step - loss: 2.2666 - accuracy: 0.2500\n",
      "Epoch 24/100\n",
      "2/2 [==============================] - 6s 2s/step - loss: 2.1368 - accuracy: 0.2708\n",
      "Epoch 25/100\n",
      "2/2 [==============================] - 6s 2s/step - loss: 2.3970 - accuracy: 0.2292\n",
      "Epoch 26/100\n",
      "2/2 [==============================] - 6s 4s/step - loss: 2.1614 - accuracy: 0.2708\n",
      "Epoch 27/100\n",
      "2/2 [==============================] - 8s 4s/step - loss: 2.2280 - accuracy: 0.2344\n",
      "Epoch 28/100\n",
      "2/2 [==============================] - 8s 4s/step - loss: 2.0404 - accuracy: 0.2969\n",
      "Epoch 29/100\n",
      "2/2 [==============================] - 6s 4s/step - loss: 1.8691 - accuracy: 0.4167\n",
      "Epoch 30/100\n",
      "2/2 [==============================] - 8s 4s/step - loss: 1.9602 - accuracy: 0.3438\n",
      "Epoch 31/100\n",
      "2/2 [==============================] - 6s 4s/step - loss: 2.0233 - accuracy: 0.3542\n",
      "Epoch 32/100\n",
      "2/2 [==============================] - 14s 6s/step - loss: 1.9059 - accuracy: 0.3594\n",
      "Epoch 33/100\n",
      "2/2 [==============================] - 11s 5s/step - loss: 2.0342 - accuracy: 0.3750\n",
      "Epoch 34/100\n",
      "2/2 [==============================] - 12s 5s/step - loss: 2.0576 - accuracy: 0.2344\n",
      "Epoch 35/100\n",
      "2/2 [==============================] - 8s 4s/step - loss: 1.9823 - accuracy: 0.3594\n",
      "Epoch 36/100\n",
      "2/2 [==============================] - 7s 2s/step - loss: 1.9227 - accuracy: 0.3958\n",
      "Epoch 37/100\n",
      "2/2 [==============================] - 6s 4s/step - loss: 1.7031 - accuracy: 0.4583\n",
      "Epoch 38/100\n",
      "2/2 [==============================] - 6s 4s/step - loss: 1.6865 - accuracy: 0.4375\n",
      "Epoch 39/100\n",
      "2/2 [==============================] - 8s 4s/step - loss: 1.7543 - accuracy: 0.4219\n",
      "Epoch 40/100\n",
      "2/2 [==============================] - 7s 4s/step - loss: 1.9493 - accuracy: 0.3333\n",
      "Epoch 41/100\n",
      "2/2 [==============================] - 7s 4s/step - loss: 1.9486 - accuracy: 0.3125\n",
      "Epoch 42/100\n",
      "2/2 [==============================] - 6s 2s/step - loss: 1.9239 - accuracy: 0.3125\n",
      "Epoch 43/100\n",
      "2/2 [==============================] - 7s 2s/step - loss: 1.6219 - accuracy: 0.5417\n",
      "Epoch 44/100\n",
      "2/2 [==============================] - 7s 4s/step - loss: 1.8070 - accuracy: 0.3542\n",
      "Epoch 45/100\n",
      "2/2 [==============================] - 10s 5s/step - loss: 1.8524 - accuracy: 0.3594\n",
      "Epoch 46/100\n",
      "2/2 [==============================] - 9s 4s/step - loss: 1.5427 - accuracy: 0.4844\n",
      "Epoch 47/100\n",
      "2/2 [==============================] - 9s 4s/step - loss: 1.8190 - accuracy: 0.3750\n",
      "Epoch 48/100\n",
      "2/2 [==============================] - 7s 5s/step - loss: 1.6854 - accuracy: 0.4583\n",
      "Epoch 49/100\n",
      "2/2 [==============================] - 7s 2s/step - loss: 1.6326 - accuracy: 0.4167\n",
      "Epoch 50/100\n",
      "2/2 [==============================] - 9s 4s/step - loss: 1.4505 - accuracy: 0.5625\n",
      "Epoch 51/100\n",
      "2/2 [==============================] - 6s 2s/step - loss: 1.4652 - accuracy: 0.4792\n",
      "Epoch 52/100\n",
      "2/2 [==============================] - 7s 5s/step - loss: 1.5684 - accuracy: 0.4167\n",
      "Epoch 53/100\n",
      "2/2 [==============================] - 7s 5s/step - loss: 1.3166 - accuracy: 0.6042\n",
      "Epoch 54/100\n",
      "2/2 [==============================] - 9s 4s/step - loss: 1.4832 - accuracy: 0.5156\n",
      "Epoch 55/100\n",
      "2/2 [==============================] - 7s 2s/step - loss: 1.6186 - accuracy: 0.4792\n",
      "Epoch 56/100\n",
      "2/2 [==============================] - 9s 4s/step - loss: 1.5356 - accuracy: 0.4688\n",
      "Epoch 57/100\n",
      "2/2 [==============================] - 9s 4s/step - loss: 1.5784 - accuracy: 0.4844\n",
      "Epoch 58/100\n",
      "2/2 [==============================] - 7s 5s/step - loss: 1.5900 - accuracy: 0.4375\n",
      "Epoch 59/100\n",
      "2/2 [==============================] - 7s 2s/step - loss: 1.3600 - accuracy: 0.5833\n",
      "Epoch 60/100\n",
      "2/2 [==============================] - 7s 2s/step - loss: 1.9127 - accuracy: 0.3958\n",
      "Epoch 61/100\n",
      "2/2 [==============================] - 7s 4s/step - loss: 1.3826 - accuracy: 0.5625\n",
      "Epoch 62/100\n",
      "2/2 [==============================] - 9s 4s/step - loss: 1.2789 - accuracy: 0.5312\n",
      "Epoch 63/100\n",
      "2/2 [==============================] - 9s 4s/step - loss: 1.4333 - accuracy: 0.5312\n",
      "Epoch 64/100\n",
      "2/2 [==============================] - 7s 4s/step - loss: 1.1222 - accuracy: 0.5833\n",
      "Epoch 65/100\n",
      "2/2 [==============================] - 6s 2s/step - loss: 1.4414 - accuracy: 0.5417\n",
      "Epoch 66/100\n",
      "2/2 [==============================] - 7s 3s/step - loss: 1.2528 - accuracy: 0.6250\n",
      "Epoch 67/100\n",
      "2/2 [==============================] - 7s 5s/step - loss: 1.5188 - accuracy: 0.4167\n",
      "Epoch 68/100\n",
      "2/2 [==============================] - 9s 4s/step - loss: 1.2851 - accuracy: 0.5938\n",
      "Epoch 69/100\n",
      "2/2 [==============================] - 7s 3s/step - loss: 1.3324 - accuracy: 0.5417\n",
      "Epoch 70/100\n",
      "2/2 [==============================] - 8s 5s/step - loss: 1.2610 - accuracy: 0.5833\n",
      "Epoch 71/100\n",
      "2/2 [==============================] - 9s 4s/step - loss: 1.4538 - accuracy: 0.4688\n",
      "Epoch 72/100\n",
      "2/2 [==============================] - 9s 4s/step - loss: 1.3598 - accuracy: 0.5156\n",
      "Epoch 73/100\n",
      "2/2 [==============================] - 8s 5s/step - loss: 1.0867 - accuracy: 0.6875\n",
      "Epoch 74/100\n",
      "2/2 [==============================] - 7s 2s/step - loss: 1.3903 - accuracy: 0.5000\n",
      "Epoch 75/100\n",
      "2/2 [==============================] - 7s 5s/step - loss: 1.0475 - accuracy: 0.6458\n",
      "Epoch 76/100\n",
      "2/2 [==============================] - 9s 5s/step - loss: 1.4848 - accuracy: 0.4688\n",
      "Epoch 77/100\n",
      "2/2 [==============================] - 7s 2s/step - loss: 0.7923 - accuracy: 0.7500\n",
      "Epoch 78/100\n",
      "2/2 [==============================] - 10s 5s/step - loss: 1.1302 - accuracy: 0.5938\n",
      "Epoch 79/100\n",
      "2/2 [==============================] - 8s 3s/step - loss: 1.0665 - accuracy: 0.5417\n",
      "Epoch 80/100\n",
      "2/2 [==============================] - 9s 4s/step - loss: 1.2221 - accuracy: 0.5625\n",
      "Epoch 81/100\n",
      "2/2 [==============================] - 7s 2s/step - loss: 0.9903 - accuracy: 0.6667\n",
      "Epoch 82/100\n",
      "2/2 [==============================] - 7s 5s/step - loss: 1.0656 - accuracy: 0.6250\n",
      "Epoch 83/100\n",
      "2/2 [==============================] - 9s 4s/step - loss: 0.9992 - accuracy: 0.6094\n",
      "Epoch 84/100\n",
      "2/2 [==============================] - 7s 5s/step - loss: 1.0949 - accuracy: 0.6250\n",
      "Epoch 85/100\n",
      "2/2 [==============================] - 10s 5s/step - loss: 0.9207 - accuracy: 0.6562\n",
      "Epoch 86/100\n",
      "2/2 [==============================] - 7s 3s/step - loss: 0.9029 - accuracy: 0.7083\n",
      "Epoch 87/100\n",
      "2/2 [==============================] - 7s 2s/step - loss: 1.1012 - accuracy: 0.5833\n",
      "Epoch 88/100\n",
      "2/2 [==============================] - 7s 5s/step - loss: 1.0585 - accuracy: 0.6667\n",
      "Epoch 89/100\n",
      "2/2 [==============================] - 9s 4s/step - loss: 1.1596 - accuracy: 0.5781\n",
      "Epoch 90/100\n",
      "2/2 [==============================] - 10s 5s/step - loss: 0.7654 - accuracy: 0.7500\n",
      "Epoch 91/100\n",
      "2/2 [==============================] - 8s 2s/step - loss: 1.1137 - accuracy: 0.6458\n",
      "Epoch 92/100\n",
      "2/2 [==============================] - 7s 3s/step - loss: 0.9506 - accuracy: 0.6458\n",
      "Epoch 93/100\n",
      "2/2 [==============================] - 7s 5s/step - loss: 1.0511 - accuracy: 0.6458\n",
      "Epoch 94/100\n",
      "2/2 [==============================] - 8s 2s/step - loss: 0.8297 - accuracy: 0.6875\n",
      "Epoch 95/100\n",
      "2/2 [==============================] - 7s 3s/step - loss: 0.8193 - accuracy: 0.7500\n",
      "Epoch 96/100\n",
      "2/2 [==============================] - 9s 3s/step - loss: 0.9508 - accuracy: 0.6667\n",
      "Epoch 97/100\n",
      "2/2 [==============================] - 10s 5s/step - loss: 0.8770 - accuracy: 0.6562\n",
      "Epoch 98/100\n",
      "2/2 [==============================] - 8s 6s/step - loss: 0.8235 - accuracy: 0.7083\n",
      "Epoch 99/100\n",
      "2/2 [==============================] - 8s 3s/step - loss: 1.0321 - accuracy: 0.6875\n",
      "Epoch 100/100\n",
      "2/2 [==============================] - 11s 5s/step - loss: 0.9362 - accuracy: 0.7031\n"
     ]
    },
    {
     "data": {
      "text/plain": [
       "<keras.callbacks.History at 0x24a004d7790>"
      ]
     },
     "execution_count": 25,
     "metadata": {},
     "output_type": "execute_result"
    }
   ],
   "source": [
    "# Обучаем модель\n",
    "model.fit(train_generator,\n",
    "          steps_per_epoch=train_generator.samples // batch_size,\n",
    "          validation_data=test_generator,\n",
    "          validation_steps=test_generator.samples // batch_size,\n",
    "          epochs=100)"
   ]
  },
  {
   "cell_type": "code",
   "execution_count": 26,
   "id": "35c7379e",
   "metadata": {},
   "outputs": [
    {
     "data": {
      "text/html": [
       "\n",
       "      <iframe id=\"tensorboard-frame-649f7bd37cc57a7f\" width=\"100%\" height=\"800\" frameborder=\"0\">\n",
       "      </iframe>\n",
       "      <script>\n",
       "        (function() {\n",
       "          const frame = document.getElementById(\"tensorboard-frame-649f7bd37cc57a7f\");\n",
       "          const url = new URL(\"/\", window.location);\n",
       "          const port = 6006;\n",
       "          if (port) {\n",
       "            url.port = port;\n",
       "          }\n",
       "          frame.src = url;\n",
       "        })();\n",
       "      </script>\n",
       "    "
      ],
      "text/plain": [
       "<IPython.core.display.HTML object>"
      ]
     },
     "metadata": {},
     "output_type": "display_data"
    }
   ],
   "source": [
    "tensorboard --logdir 'C:/Users/админ/PycharmProjects/PDS2/PDS2_Kofanov/Lesson_68/logs/' "
   ]
  },
  {
   "cell_type": "code",
   "execution_count": 27,
   "id": "1e83edcd",
   "metadata": {},
   "outputs": [
    {
     "name": "stdout",
     "output_type": "stream",
     "text": [
      "1/1 [==============================] - 1s 615ms/step - loss: 2.1354 - accuracy: 0.3500\n",
      "Accuracy: 0.3499999940395355\n"
     ]
    }
   ],
   "source": [
    "# Оцениваем точность модели на тестовых данных\n",
    "accuracy = model.evaluate(test_generator)[1]\n",
    "print('Accuracy:', accuracy)"
   ]
  },
  {
   "cell_type": "code",
   "execution_count": 30,
   "id": "01cd6825",
   "metadata": {},
   "outputs": [],
   "source": [
    "model.save(path_to_save + '/fruit_classifier_color_100.h5')"
   ]
  }
 ],
 "metadata": {
  "kernelspec": {
   "display_name": "Python 3 (ipykernel)",
   "language": "python",
   "name": "python3"
  },
  "language_info": {
   "codemirror_mode": {
    "name": "ipython",
    "version": 3
   },
   "file_extension": ".py",
   "mimetype": "text/x-python",
   "name": "python",
   "nbconvert_exporter": "python",
   "pygments_lexer": "ipython3",
   "version": "3.11.1"
  }
 },
 "nbformat": 4,
 "nbformat_minor": 5
}
