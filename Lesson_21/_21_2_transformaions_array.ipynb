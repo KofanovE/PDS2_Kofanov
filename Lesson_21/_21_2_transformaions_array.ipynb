{
 "cells": [
  {
   "cell_type": "markdown",
   "id": "12a3cb8e",
   "metadata": {},
   "source": [
    "Завдання 21_2. \n",
    "Напишіть код, який здійснює процес перетворення матриці, наведенний у презентації. \n",
    "Роботу виконати у середовищі Jupyter Notebook."
   ]
  },
  {
   "cell_type": "markdown",
   "id": "bfbc7919",
   "metadata": {},
   "source": [
    "Методи ініціалізації і відображення класу MatrixClass взяті із попереднього завдання."
   ]
  },
  {
   "cell_type": "code",
   "execution_count": 53,
   "id": "978ac7fd",
   "metadata": {},
   "outputs": [],
   "source": [
    "class MatrixClass:\n",
    "\n",
    "    def __init__(self, obj):\n",
    "        try:\n",
    "            for i in range(len(obj)):\n",
    "                if type(obj) == list and type(obj[i]) == list:       #check, that entered object is list of lists\n",
    "                    if obj == [[]]:\n",
    "                        self.matrix = [[]]\n",
    "                        return None\n",
    "                    for j in obj[i]:\n",
    "                        if not (type(j) == int or type(j) == float): #check, that lists are including int or float digits\n",
    "                            print(\"all elements of matrix must be digits\")\n",
    "                            self.matrix = [[]]\n",
    "                            return None\n",
    "                    self.matrix = obj                                #else, matrix is create of entered list of lists\n",
    "                else:                                                # else, if there is no list of lists, created matrix is empty\n",
    "                    print(\"obj isn't list of lists\")\n",
    "                    self.matrix = [[]]\n",
    "                    return None\n",
    "        except TypeError:                                            # if, there is not interated object, matrix is empty\n",
    "            print(\"obj isn't list of lists\")\n",
    "            self.matrix = [[]]\n",
    "\n",
    "            \n",
    "    def __str__(self):\n",
    "        return self.matrix\n",
    "    \n",
    "    \n",
    "    def change_lines(self, line_1, line_2):  # method takes two int digits - numbers changing lines of array\n",
    "        if not (type(line_1) == int and type(line_2) == int and line_1 <= len(self.matrix)-1 and line_2 <= len(self.matrix)-1):\n",
    "            print(\"Enter correct numbers of lines of array!\")\n",
    "            return None\n",
    "        self.matrix[line_1], self.matrix[line_2] = self.matrix[line_2], self.matrix[line_1]\n",
    "           \n",
    "            \n",
    "            \n",
    "    def mul_line(self, line, digit):    # method takes two int digits - number of line and notzero multiplicator\n",
    "        if not (type(line) == int and type(digit) == int and line <= len(self.matrix)-1 and digit != 0):\n",
    "            print(\"Enter correct number of line or multiplicator\")\n",
    "            return None\n",
    "        self.matrix[line] = [i * digit for i in self.matrix[line]]    \n",
    "        \n",
    "        \n",
    "    def div_line(self, line, digit):    # method takes two int digits - number of line and notzero divisor\n",
    "        if not (type(line) == int and type(digit) == int and line <= len(self.matrix)-1 and digit != 0):\n",
    "            print(\"Enter correct number of line or divisor\")\n",
    "            return None\n",
    "        self.matrix[line] = [i // digit for i in self.matrix[line]]     \n",
    "   \n",
    "\n",
    "    def add_line(self, line_1, line_2, digit): # method takes numbers of lines and multiplicator\n",
    "        if not (type(line_1) == int and type(line_2) == int and type(digit) == int and line_1 <= len(self.matrix)-1 and line_2 <= len(self.matrix)-1 and digit != 0):\n",
    "            print(\"Enter correct numbers of lins or multiplicator\")\n",
    "            return None\n",
    "        added_line = [i * digit for i in self.matrix[line_2]]\n",
    "        for i in range(len(self.matrix[line_1])):\n",
    "            self.matrix[line_1][i] += added_line[i]   \n",
    "    \n",
    "    "
   ]
  },
  {
   "cell_type": "markdown",
   "id": "a69c9ddb",
   "metadata": {},
   "source": [
    "Використовуючи елементарні перетворення рядків, перетворити матрицю А в верхню трикутну матрицю:"
   ]
  },
  {
   "cell_type": "code",
   "execution_count": 54,
   "id": "88ff2e02",
   "metadata": {},
   "outputs": [
    {
     "name": "stdout",
     "output_type": "stream",
     "text": [
      "[[4, 2, 0], [1, 3, 2], [-1, 3, 10]]\n"
     ]
    }
   ],
   "source": [
    "list_1 = [[4, 2, 0], [1, 3, 2], [-1, 3, 10]]\n",
    "A = MatrixClass(list_1)\n",
    "print(A.__str__())    "
   ]
  },
  {
   "cell_type": "markdown",
   "id": "ea3b4c8f",
   "metadata": {},
   "source": [
    "Поміняємо перший та другий рядок місцями:"
   ]
  },
  {
   "cell_type": "code",
   "execution_count": 55,
   "id": "ea6f4f54",
   "metadata": {},
   "outputs": [
    {
     "name": "stdout",
     "output_type": "stream",
     "text": [
      "[[1, 3, 2], [4, 2, 0], [-1, 3, 10]]\n"
     ]
    }
   ],
   "source": [
    "A.change_lines(0, 1)\n",
    "print(A.__str__())  "
   ]
  },
  {
   "cell_type": "markdown",
   "id": "ba9c9df9",
   "metadata": {},
   "source": [
    "До 2-го рядка додати 1-й, помножений на -4:"
   ]
  },
  {
   "cell_type": "code",
   "execution_count": 56,
   "id": "d0cd7ea6",
   "metadata": {},
   "outputs": [
    {
     "name": "stdout",
     "output_type": "stream",
     "text": [
      "[[1, 3, 2], [0, -10, -8], [-1, 3, 10]]\n"
     ]
    }
   ],
   "source": [
    "A.add_line(1, 0, -4)\n",
    "print(A.__str__())  "
   ]
  },
  {
   "cell_type": "markdown",
   "id": "54a841c9",
   "metadata": {},
   "source": [
    "До 3-го рядка додати 1-й:"
   ]
  },
  {
   "cell_type": "code",
   "execution_count": 57,
   "id": "be0a7a18",
   "metadata": {},
   "outputs": [
    {
     "name": "stdout",
     "output_type": "stream",
     "text": [
      "[[1, 3, 2], [0, -10, -8], [0, 6, 12]]\n"
     ]
    }
   ],
   "source": [
    "A.add_line(2, 0, 1)\n",
    "print(A.__str__())  "
   ]
  },
  {
   "cell_type": "markdown",
   "id": "4daeae89",
   "metadata": {},
   "source": [
    "2-й рядок поділити на -2:"
   ]
  },
  {
   "cell_type": "code",
   "execution_count": 58,
   "id": "4baf31d9",
   "metadata": {},
   "outputs": [
    {
     "name": "stdout",
     "output_type": "stream",
     "text": [
      "[[1, 3, 2], [0, 5, 4], [0, 6, 12]]\n"
     ]
    }
   ],
   "source": [
    "A.div_line(1, -2)\n",
    "print(A.__str__())  "
   ]
  },
  {
   "cell_type": "markdown",
   "id": "1e571d11",
   "metadata": {},
   "source": [
    "3-й рядок ділимо на 6:"
   ]
  },
  {
   "cell_type": "code",
   "execution_count": 59,
   "id": "a7a1d5d0",
   "metadata": {},
   "outputs": [
    {
     "name": "stdout",
     "output_type": "stream",
     "text": [
      "[[1, 3, 2], [0, 5, 4], [0, 1, 2]]\n"
     ]
    }
   ],
   "source": [
    "A.div_line(2, 6)\n",
    "print(A.__str__())  "
   ]
  },
  {
   "cell_type": "markdown",
   "id": "3ae1a039",
   "metadata": {},
   "source": [
    "Поміняємо 2-й та 3-й рядок місцями:"
   ]
  },
  {
   "cell_type": "code",
   "execution_count": 60,
   "id": "4299c857",
   "metadata": {},
   "outputs": [
    {
     "name": "stdout",
     "output_type": "stream",
     "text": [
      "[[1, 3, 2], [0, 1, 2], [0, 5, 4]]\n"
     ]
    }
   ],
   "source": [
    "A.change_lines(1, 2)\n",
    "print(A.__str__())  "
   ]
  },
  {
   "cell_type": "markdown",
   "id": "20d92368",
   "metadata": {},
   "source": [
    "До 3-го рядка додамо 2-й, помножений на -5:"
   ]
  },
  {
   "cell_type": "code",
   "execution_count": 61,
   "id": "20edee79",
   "metadata": {},
   "outputs": [
    {
     "name": "stdout",
     "output_type": "stream",
     "text": [
      "[[1, 3, 2], [0, 1, 2], [0, 0, -6]]\n"
     ]
    }
   ],
   "source": [
    "A.add_line(2, 1, -5)\n",
    "print(A.__str__())  "
   ]
  }
 ],
 "metadata": {
  "kernelspec": {
   "display_name": "Python 3 (ipykernel)",
   "language": "python",
   "name": "python3"
  },
  "language_info": {
   "codemirror_mode": {
    "name": "ipython",
    "version": 3
   },
   "file_extension": ".py",
   "mimetype": "text/x-python",
   "name": "python",
   "nbconvert_exporter": "python",
   "pygments_lexer": "ipython3",
   "version": "3.10.7"
  }
 },
 "nbformat": 4,
 "nbformat_minor": 5
}
