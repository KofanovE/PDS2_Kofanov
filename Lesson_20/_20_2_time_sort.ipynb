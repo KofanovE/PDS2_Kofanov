{
 "cells": [
  {
   "cell_type": "markdown",
   "id": "935cd01f",
   "metadata": {},
   "source": [
    "Прграма була перероблена для отримання єдиної функції.\n",
    "Команда %%timeit повністю замінила інші функції для обчислення середнього часу 3х разового циклу роботи функції сортування."
   ]
  },
  {
   "cell_type": "code",
   "execution_count": 13,
   "id": "2598fbbb",
   "metadata": {},
   "outputs": [
    {
     "name": "stdout",
     "output_type": "stream",
     "text": [
      "14.6 s ± 0 ns per loop (mean ± std. dev. of 1 run, 3 loops each)\n"
     ]
    }
   ],
   "source": [
    "%%timeit -r 1 -n 3\n",
    "\n",
    "import random\n",
    "    \n",
    "def heap_sort(list_):\n",
    "    \n",
    "    dict_ = {}\n",
    "    start = 0\n",
    "    stop = 1\n",
    "    sum = 0\n",
    "    i = 1\n",
    "    while sum < len(list_):\n",
    "        dict_[i] = list_[start: stop]\n",
    "        start = stop\n",
    "        stop = start * 2 +1\n",
    "        sum += len(dict_[i])\n",
    "        i += 1\n",
    "\n",
    "    result_list = []\n",
    "    count = 0\n",
    "    while True:         # Інтерації формування відсортованого списку\n",
    "        while True:     # Інтерації сортування піраміди\n",
    "            flag = True    # Флаг відсутності інтерацій\n",
    "            try:\n",
    "                for key in dict_: # Для кожного рівня піраміди\n",
    "                    for i in range(len(dict_[key])): # Для кожного номеру вузла даного рівня піраміди\n",
    "                        value = dict_[key]           # Список вузлів даного рівня\n",
    "                        if key == len(dict_) or i*2 > len(dict_[key+1]):               # Якщо це отсанній рівень або в наступному рівні нема даного дочірнього вузла\n",
    "                            raise IndexError()                                         # Визов IndexError\n",
    "                        if value[i] < dict_[key+1][i*2]:                                # Якщо даний вузол менше за перший дочірній\n",
    "                            value[i], dict_[key+1][i*2] = dict_[key+1][i*2], value[i] # Батьківський і дочірній вузли міняються місцями\n",
    "                            count += 1                                                 # Лічильник інтерацій інкрементується\n",
    "                            flag = False                                               # Флаг: інтерація відбулася\n",
    "                        if i*2+1 > len(dict_[key+1]):                                                # якщо в наступному рівні відсутній даний дочірній вузол\n",
    "                            raise IndexError()                                                       # Визов IndexError\n",
    "                        if value[i] < dict_[key+1][i*2+1]:                                           # Якщо даний вузол менше за другий дочірній\n",
    "                            value[i], dict_[key + 1][i * 2 +1] = dict_[key + 1][i * 2 + 1], value[i] # Перестановка вузлів\n",
    "                            count += 1                                                               # Лічильник інтерацій інкрементується\n",
    "                            flag = False                                                              # Флаг: інтерація відбулася\n",
    "\n",
    "            except IndexError:        # Якщо спрацювала обробка IndexError\n",
    "                if flag:              # Якщо інтерацій не було - вихід із циклу обходу піраміди\n",
    "                    break\n",
    "                else:\n",
    "                    continue\n",
    "\n",
    "        result_list.append(dict_[1].pop())          # З відсортованої піраміди корень (найбільше число) вноситься в відсортований список\n",
    "        dict_[1].append(dict_[len(dict_)].pop())    # Корень заміняється на видалений кінцевий елемент останнього рівня (піраміда зменшується знизу)\n",
    "        if dict_[len(dict_)] == []:                 # Якщо останній рівень піраміди не має вузлів - рівень видаляється\n",
    "            dict_.pop(len(dict_))\n",
    "        if len(dict_) == 1:                        # Якщо в піраміді остався тільки корневий рівень - корень (найменше число, що лишилося) ставиться в кінець відсортованого списку\n",
    "            result_list.append(dict_[1].pop())\n",
    "            break\n",
    "\n",
    "    # print(result_list[::-1])\n",
    "    return count        \n",
    "\n",
    "heap_sort([random.randint(0, 1000) for i in range(5000)])"
   ]
  }
 ],
 "metadata": {
  "kernelspec": {
   "display_name": "Python 3 (ipykernel)",
   "language": "python",
   "name": "python3"
  },
  "language_info": {
   "codemirror_mode": {
    "name": "ipython",
    "version": 3
   },
   "file_extension": ".py",
   "mimetype": "text/x-python",
   "name": "python",
   "nbconvert_exporter": "python",
   "pygments_lexer": "ipython3",
   "version": "3.10.7"
  }
 },
 "nbformat": 4,
 "nbformat_minor": 5
}
