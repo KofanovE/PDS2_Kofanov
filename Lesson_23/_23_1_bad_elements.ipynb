{
 "cells": [
  {
   "cell_type": "markdown",
   "id": "e1927551",
   "metadata": {},
   "source": [
    "Прилад містить 7 елементів, з яких 3 зношені. При включені приладу випадковим чином включаються три елементи.\n",
    "Знайти ймовірність того, що при цьому виявляться включеними два зношених елементи."
   ]
  },
  {
   "cell_type": "markdown",
   "id": "689f6221",
   "metadata": {},
   "source": [
    "Вирішення:\n",
    "\n",
    "Подія А_1 - включення першого зношенного елементу;\n",
    "Подія A_2 - включення другого зношенного елементу;\n",
    "Подія А_3 - невключення третього зношеного елементу;\n",
    "Події А_1 і A_2 і А_3 залежні, тому використовується теорема множення:"
   ]
  },
  {
   "cell_type": "code",
   "execution_count": 3,
   "id": "9b62c92e",
   "metadata": {},
   "outputs": [
    {
     "name": "stdout",
     "output_type": "stream",
     "text": [
      "Дана подія відбудеться з вірогідністю 11.43 відсотків\n"
     ]
    }
   ],
   "source": [
    "P_A = (3/7) * (2/6) * (4/5)\n",
    "print(f\"Дана подія відбудеться з вірогідністю {round(P_A * 100, 2)} відсотків\")"
   ]
  }
 ],
 "metadata": {
  "kernelspec": {
   "display_name": "Python 3 (ipykernel)",
   "language": "python",
   "name": "python3"
  },
  "language_info": {
   "codemirror_mode": {
    "name": "ipython",
    "version": 3
   },
   "file_extension": ".py",
   "mimetype": "text/x-python",
   "name": "python",
   "nbconvert_exporter": "python",
   "pygments_lexer": "ipython3",
   "version": "3.10.7"
  }
 },
 "nbformat": 4,
 "nbformat_minor": 5
}
