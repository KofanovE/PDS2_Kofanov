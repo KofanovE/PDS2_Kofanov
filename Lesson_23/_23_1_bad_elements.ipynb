{
 "cells": [
  {
   "cell_type": "markdown",
   "id": "db962bf1",
   "metadata": {},
   "source": [
    "Прилад містить 7 елементів, з яких 3 зношені. При включені приладу випадковим чином включаються три елементи.\n",
    "Знайти ймовірність того, що при цьому виявляться включеними два зношених елементи."
   ]
  },
  {
   "cell_type": "markdown",
   "id": "6515dbfd",
   "metadata": {},
   "source": [
    "Вирішення:\n",
    "\n",
    "Подія А_1 - включення першого зношенного елементу;\n",
    "Подія A_2 - включення другого зношенного елементу;\n",
    "Події А_1 і A_2 залежні, тому використовується теорема множення:"
   ]
  },
  {
   "cell_type": "code",
   "execution_count": 2,
   "id": "01bb00a0",
   "metadata": {},
   "outputs": [
    {
     "name": "stdout",
     "output_type": "stream",
     "text": [
      "Дана подія відбудеться з вірогідністю 14.29 відсотків\n"
     ]
    }
   ],
   "source": [
    "P_A = (3/7) * (2/6)\n",
    "print(f\"Дана подія відбудеться з вірогідністю {round(P_A * 100, 2)} відсотків\")"
   ]
  }
 ],
 "metadata": {
  "kernelspec": {
   "display_name": "Python 3 (ipykernel)",
   "language": "python",
   "name": "python3"
  },
  "language_info": {
   "codemirror_mode": {
    "name": "ipython",
    "version": 3
   },
   "file_extension": ".py",
   "mimetype": "text/x-python",
   "name": "python",
   "nbconvert_exporter": "python",
   "pygments_lexer": "ipython3",
   "version": "3.10.7"
  }
 },
 "nbformat": 4,
 "nbformat_minor": 5
}
