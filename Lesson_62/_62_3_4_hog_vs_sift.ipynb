{
 "cells": [
  {
   "cell_type": "markdown",
   "id": "8822f438",
   "metadata": {},
   "source": [
    "**Завдання 62_3:**\n",
    "\n",
    "Завантажте датасет CIFAR-10 та використайте HOG для витягування ознак зображень. Застосуйте будь-який простий класифікатор (наприклад SVM) для класифікації зображень та очисліть метрики точності, такі як accuracy, precision, recall та F1-score."
   ]
  },
  {
   "cell_type": "code",
   "execution_count": 15,
   "id": "879116fd",
   "metadata": {},
   "outputs": [],
   "source": [
    "import numpy as np\n",
    "import matplotlib.pyplot as plt\n",
    "from sklearn import svm, metrics\n",
    "from sklearn.model_selection import train_test_split\n",
    "from skimage.feature import hog\n",
    "from keras.datasets import cifar10\n",
    "\n",
    "# Load CIFAR-10 dataset\n",
    "(X_train, y_train), (X_test, y_test) = cifar10.load_data()"
   ]
  },
  {
   "cell_type": "code",
   "execution_count": 8,
   "id": "3b22dc5a",
   "metadata": {},
   "outputs": [],
   "source": [
    "# HOG feature extraction\n",
    "def hog_features(X):\n",
    "    fd_list = []\n",
    "    for i in range(len(X)):\n",
    "        fd = hog(X[i], orientations=9, pixels_per_cell=(8, 8), cells_per_block=(2, 2), visualize=False, channel_axis=-1)\n",
    "        fd_list.append(fd)\n",
    "    return fd_list\n",
    "\n",
    "X_train_hog = hog_features(X_train)\n",
    "X_test_hog = hog_features(X_test)"
   ]
  },
  {
   "cell_type": "code",
   "execution_count": 9,
   "id": "e6f4b449",
   "metadata": {},
   "outputs": [
    {
     "name": "stderr",
     "output_type": "stream",
     "text": [
      "C:\\users\\админ\\appdata\\local\\programs\\python\\python311\\lib\\site-packages\\sklearn\\utils\\validation.py:1143: DataConversionWarning: A column-vector y was passed when a 1d array was expected. Please change the shape of y to (n_samples, ), for example using ravel().\n",
      "  y = column_or_1d(y, warn=True)\n"
     ]
    }
   ],
   "source": [
    "# Train SVM classifier\n",
    "clf = svm.SVC(kernel='linear', C=1.0)\n",
    "clf.fit(X_train_hog, y_train)\n",
    "\n",
    "# Predict classes of test images\n",
    "y_pred = clf.predict(X_test_hog)"
   ]
  },
  {
   "cell_type": "code",
   "execution_count": 10,
   "id": "1e142626",
   "metadata": {},
   "outputs": [
    {
     "name": "stdout",
     "output_type": "stream",
     "text": [
      "Classification report for classifier SVC(kernel='linear'):\n",
      "              precision    recall  f1-score   support\n",
      "\n",
      "           0       0.59      0.63      0.61      1000\n",
      "           1       0.62      0.65      0.64      1000\n",
      "           2       0.45      0.44      0.44      1000\n",
      "           3       0.40      0.33      0.36      1000\n",
      "           4       0.46      0.51      0.48      1000\n",
      "           5       0.46      0.41      0.43      1000\n",
      "           6       0.53      0.63      0.58      1000\n",
      "           7       0.59      0.57      0.58      1000\n",
      "           8       0.61      0.60      0.60      1000\n",
      "           9       0.68      0.64      0.66      1000\n",
      "\n",
      "    accuracy                           0.54     10000\n",
      "   macro avg       0.54      0.54      0.54     10000\n",
      "weighted avg       0.54      0.54      0.54     10000\n",
      "\n",
      "\n"
     ]
    }
   ],
   "source": [
    "# Classification report\n",
    "print(\"Classification report for classifier %s:\\n%s\\n\" % (clf, metrics.classification_report(y_test, y_pred)))"
   ]
  },
  {
   "cell_type": "markdown",
   "id": "5e4f24d7",
   "metadata": {},
   "source": [
    "**Завдання 62_4:**\n",
    "\n",
    "Використайте метод SIFT для витягування ознак з зображень та порівняйте його з методом HOG за допомогою метрик точності."
   ]
  },
  {
   "cell_type": "code",
   "execution_count": 39,
   "id": "e6cfddc9",
   "metadata": {},
   "outputs": [],
   "source": [
    "import cv2\n",
    "from sklearn.svm import SVC\n",
    "from sklearn.metrics import classification_report"
   ]
  },
  {
   "cell_type": "code",
   "execution_count": 18,
   "id": "a991affd",
   "metadata": {},
   "outputs": [],
   "source": [
    "# Зміна розміру зображень\n",
    "resized_images = []\n",
    "for img in X_train:\n",
    "    resized_images.append(cv2.resize(img, (32, 32)))"
   ]
  },
  {
   "cell_type": "code",
   "execution_count": 21,
   "id": "abb11933",
   "metadata": {},
   "outputs": [],
   "source": [
    "# Витягування ознак з зображень\n",
    "sift = cv2.SIFT_create()\n",
    "sift_features = []\n",
    "for img in resized_images:\n",
    "    gray = cv2.cvtColor(img, cv2.COLOR_RGB2GRAY)\n",
    "    kp, descriptors = sift.detectAndCompute(gray, None)\n",
    "    sift_features.append(descriptors)"
   ]
  },
  {
   "cell_type": "code",
   "execution_count": 46,
   "id": "d7ab9b4d",
   "metadata": {},
   "outputs": [],
   "source": [
    "sift_features = [f for f in sift_features[:50000] if f is not None]"
   ]
  },
  {
   "cell_type": "code",
   "execution_count": 48,
   "id": "e5f1d047",
   "metadata": {},
   "outputs": [],
   "source": [
    "sift_features = np.vstack(sift_features)"
   ]
  },
  {
   "cell_type": "code",
   "execution_count": null,
   "id": "a53c7df1",
   "metadata": {},
   "outputs": [
    {
     "name": "stderr",
     "output_type": "stream",
     "text": [
      "C:\\users\\админ\\appdata\\local\\programs\\python\\python311\\lib\\site-packages\\sklearn\\utils\\validation.py:1143: DataConversionWarning: A column-vector y was passed when a 1d array was expected. Please change the shape of y to (n_samples, ), for example using ravel().\n",
      "  y = column_or_1d(y, warn=True)\n"
     ]
    }
   ],
   "source": [
    "# Тренування класифікатора SVM\n",
    "svm = SVC(kernel='linear', C=1, random_state=42)\n",
    "svm.fit(sift_features, y_train)"
   ]
  },
  {
   "cell_type": "code",
   "execution_count": 13,
   "id": "3b3859be",
   "metadata": {},
   "outputs": [],
   "source": [
    "# Застосування класифікатора до тестового датасету\n",
    "resized_test_images = []\n",
    "for img in test_images:\n",
    "    resized_test_images.append(cv2.resize(img, (32, 32)))\n",
    "\n",
    "test_features = []\n",
    "for img in resized_test_images:\n",
    "    gray = cv2.cvtColor(img, cv2.COLOR_RGB2GRAY)\n",
    "    kp, descriptors = sift.detectAndCompute(gray, None)\n",
    "    test_features.append(descriptors)\n",
    "\n",
    "test_features = np.array(test_features)\n",
    "y_pred = svm.predict(test_features)\n"
   ]
  },
  {
   "cell_type": "code",
   "execution_count": null,
   "id": "e691ea12",
   "metadata": {},
   "outputs": [],
   "source": [
    "# Оцінка точності класифікації\n",
    "print(classification_report(y_test, y_pred))"
   ]
  },
  {
   "cell_type": "code",
   "execution_count": null,
   "id": "f381a9c3",
   "metadata": {},
   "outputs": [],
   "source": []
  }
 ],
 "metadata": {
  "kernelspec": {
   "display_name": "Python 3 (ipykernel)",
   "language": "python",
   "name": "python3"
  },
  "language_info": {
   "codemirror_mode": {
    "name": "ipython",
    "version": 3
   },
   "file_extension": ".py",
   "mimetype": "text/x-python",
   "name": "python",
   "nbconvert_exporter": "python",
   "pygments_lexer": "ipython3",
   "version": "3.11.1"
  }
 },
 "nbformat": 4,
 "nbformat_minor": 5
}
