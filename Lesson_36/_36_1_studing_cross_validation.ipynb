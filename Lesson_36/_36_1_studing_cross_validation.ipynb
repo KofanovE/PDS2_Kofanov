{
 "cells": [
  {
   "cell_type": "markdown",
   "id": "d63363de",
   "metadata": {},
   "source": [
    "**Умова:**\n",
    "    \n",
    "Проведіть крос-валідацію для моделі, побудованої на основі датафрейму **student_scores** з попереднього завдання. Обгрунтуйте обраний метод крос-валідації."
   ]
  },
  {
   "cell_type": "markdown",
   "id": "9a8d1985",
   "metadata": {},
   "source": [
    "**1. Отримання даних**"
   ]
  },
  {
   "cell_type": "code",
   "execution_count": 99,
   "id": "49fee883",
   "metadata": {},
   "outputs": [],
   "source": [
    "import pandas as pd\n",
    "\n",
    "df = pd.read_csv('student_scores.csv')"
   ]
  },
  {
   "cell_type": "markdown",
   "id": "3baf30f3",
   "metadata": {},
   "source": [
    "**2. Розділення даних на тренуючу та тестову частини**"
   ]
  },
  {
   "cell_type": "code",
   "execution_count": 104,
   "id": "a39e308c",
   "metadata": {},
   "outputs": [],
   "source": [
    "from sklearn.model_selection import train_test_split\n",
    "\n",
    "X, y = pd.DataFrame(df['Hours']), pd.DataFrame(df['Scores'])\n",
    "x_train, x_test, y_train, y_test = train_test_split(X, y, random_state=0)"
   ]
  },
  {
   "cell_type": "markdown",
   "id": "096f61ab",
   "metadata": {},
   "source": [
    "**3. Навчання моделі**"
   ]
  },
  {
   "cell_type": "code",
   "execution_count": 105,
   "id": "513ca59c",
   "metadata": {},
   "outputs": [],
   "source": [
    "from sklearn.linear_model import LinearRegression\n",
    "\n",
    "lr = LinearRegression()\n",
    "lr = lr.fit(x_train, y_train)"
   ]
  },
  {
   "cell_type": "markdown",
   "id": "4e84b705",
   "metadata": {},
   "source": [
    "**4. Перевірка моделі**"
   ]
  },
  {
   "cell_type": "code",
   "execution_count": 106,
   "id": "b05341fc",
   "metadata": {},
   "outputs": [
    {
     "name": "stdout",
     "output_type": "stream",
     "text": [
      "Score: 0.937\n"
     ]
    }
   ],
   "source": [
    "print('Score: {:.3f}'.format(lr.score(x_test, y_test)))"
   ]
  },
  {
   "cell_type": "markdown",
   "id": "6e1d1d25",
   "metadata": {},
   "source": [
    "**5. Використаємо метод крос-валідації**"
   ]
  },
  {
   "cell_type": "code",
   "execution_count": 107,
   "id": "59aefe6a",
   "metadata": {},
   "outputs": [
    {
     "name": "stdout",
     "output_type": "stream",
     "text": [
      "Cross Validation:  [0.901, 0.953, 0.934]\n"
     ]
    }
   ],
   "source": [
    "from sklearn.model_selection import KFold\n",
    "\n",
    "kfold = KFold(n_splits=3)\n",
    "lr_cv = LinearRegression()\n",
    "\n",
    "\n",
    "test_scores = []\n",
    "\n",
    "for train_index, test_index in kfold.split(X):\n",
    "    x_train, x_test = X.iloc[train_index], X.iloc[test_index]\n",
    "    y_train, y_test = y.iloc[train_index], y.iloc[test_index]\n",
    "    \n",
    "    lr_cv.fit(x_train, y_train)\n",
    "    test_scores.append(round(lr_cv.score(x_test, y_test), 3))\n",
    "print('Cross Validation: ', test_scores)"
   ]
  },
  {
   "cell_type": "markdown",
   "id": "dd650ab6",
   "metadata": {},
   "source": [
    "**Висновок:** "
   ]
  },
  {
   "cell_type": "markdown",
   "id": "72ca7196",
   "metadata": {},
   "source": [
    "Для даного датафрейму, якість моделі при крос-валідації (в порівнянні зі звичайною моделлю лінійної регресії) не покращилась. \n",
    "Була використана K-fold валідація, як найбільш проста та об'єктивна в порівнянні з іншими."
   ]
  }
 ],
 "metadata": {
  "kernelspec": {
   "display_name": "Python 3 (ipykernel)",
   "language": "python",
   "name": "python3"
  },
  "language_info": {
   "codemirror_mode": {
    "name": "ipython",
    "version": 3
   },
   "file_extension": ".py",
   "mimetype": "text/x-python",
   "name": "python",
   "nbconvert_exporter": "python",
   "pygments_lexer": "ipython3",
   "version": "3.11.1"
  }
 },
 "nbformat": 4,
 "nbformat_minor": 5
}
