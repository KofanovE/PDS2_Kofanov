{
 "cells": [
  {
   "cell_type": "markdown",
   "id": "1571aacf",
   "metadata": {},
   "source": [
    "**Умова:**\n",
    "\n",
    "До пункту видачі надійшли вироби з такими характеристиками: \n",
    "Всього виробів - 13000 одиниць, з них виготовлено на першому заводі - 8000 од., вагою 13 кг., зі стандартним відхиленням по вазі 0.5 кг. На другому - 5000 од., вагою 12 кг., зі стандартним відхиленням по вазі 0.7 кг. Доля якісних виробів, вироблених на першому заводі, становить 0.85. Доля якісних виробів, вироблених на другому заводі 0.8.\n",
    "\n",
    "Завдання:\n",
    "\n",
    "Напишіть код, з використанням ЕМ -алгоритму, для визначення ймовірності, на якому заводі був вироблений виріб."
   ]
  },
  {
   "cell_type": "code",
   "execution_count": 27,
   "id": "80f4880f",
   "metadata": {},
   "outputs": [
    {
     "data": {
      "text/plain": [
       "array([[13.15710362],\n",
       "       [13.32679866],\n",
       "       [12.97417631],\n",
       "       ...,\n",
       "       [12.14095757],\n",
       "       [12.3904787 ],\n",
       "       [11.96250014]])"
      ]
     },
     "metadata": {},
     "output_type": "display_data"
    }
   ],
   "source": [
    "from sklearn.mixture import GaussianMixture\n",
    "import numpy as np\n",
    "import matplotlib.pyplot as plt\n",
    "\n",
    "data = np.concatenate((np.random.normal(loc=13, scale=0.5, size=8000), np.random.normal(loc=12, scale=0.7, size=5000)))\n",
    "data = data.reshape(-1, 1)\n",
    "display(data)"
   ]
  },
  {
   "cell_type": "code",
   "execution_count": 28,
   "id": "c811c930",
   "metadata": {},
   "outputs": [
    {
     "data": {
      "image/png": "[encoded data removed]",
      "text/plain": [
       "<Figure size 640x480 with 1 Axes>"
      ]
     },
     "metadata": {},
     "output_type": "display_data"
    }
   ],
   "source": [
    "plt.hist(data[:8000], bins=30, alpha=0.5)\n",
    "plt.hist(data[8000:], bins=30, alpha=0.5)\n",
    "plt.xlabel(\"Вага, кг\")\n",
    "plt.ylabel(\"Частота\")\n",
    "plt.show()"
   ]
  },
  {
   "cell_type": "code",
   "execution_count": 3,
   "id": "67ebbaf0",
   "metadata": {},
   "outputs": [
    {
     "data": {
      "text/html": [
       "<style>#sk-container-id-1 {color: black;background-color: white;}#sk-container-id-1 pre{padding: 0;}#sk-container-id-1 div.sk-toggleable {background-color: white;}#sk-container-id-1 label.sk-toggleable__label {cursor: pointer;display: block;width: 100%;margin-bottom: 0;padding: 0.3em;box-sizing: border-box;text-align: center;}#sk-container-id-1 label.sk-toggleable__label-arrow:before {content: \"▸\";float: left;margin-right: 0.25em;color: #696969;}#sk-container-id-1 label.sk-toggleable__label-arrow:hover:before {color: black;}#sk-container-id-1 div.sk-estimator:hover label.sk-toggleable__label-arrow:before {color: black;}#sk-container-id-1 div.sk-toggleable__content {max-height: 0;max-width: 0;overflow: hidden;text-align: left;background-color: #f0f8ff;}#sk-container-id-1 div.sk-toggleable__content pre {margin: 0.2em;color: black;border-radius: 0.25em;background-color: #f0f8ff;}#sk-container-id-1 input.sk-toggleable__control:checked~div.sk-toggleable__content {max-height: 200px;max-width: 100%;overflow: auto;}#sk-container-id-1 input.sk-toggleable__control:checked~label.sk-toggleable__label-arrow:before {content: \"▾\";}#sk-container-id-1 div.sk-estimator input.sk-toggleable__control:checked~label.sk-toggleable__label {background-color: #d4ebff;}#sk-container-id-1 div.sk-label input.sk-toggleable__control:checked~label.sk-toggleable__label {background-color: #d4ebff;}#sk-container-id-1 input.sk-hidden--visually {border: 0;clip: rect(1px 1px 1px 1px);clip: rect(1px, 1px, 1px, 1px);height: 1px;margin: -1px;overflow: hidden;padding: 0;position: absolute;width: 1px;}#sk-container-id-1 div.sk-estimator {font-family: monospace;background-color: #f0f8ff;border: 1px dotted black;border-radius: 0.25em;box-sizing: border-box;margin-bottom: 0.5em;}#sk-container-id-1 div.sk-estimator:hover {background-color: #d4ebff;}#sk-container-id-1 div.sk-parallel-item::after {content: \"\";width: 100%;border-bottom: 1px solid gray;flex-grow: 1;}#sk-container-id-1 div.sk-label:hover label.sk-toggleable__label {background-color: #d4ebff;}#sk-container-id-1 div.sk-serial::before {content: \"\";position: absolute;border-left: 1px solid gray;box-sizing: border-box;top: 0;bottom: 0;left: 50%;z-index: 0;}#sk-container-id-1 div.sk-serial {display: flex;flex-direction: column;align-items: center;background-color: white;padding-right: 0.2em;padding-left: 0.2em;position: relative;}#sk-container-id-1 div.sk-item {position: relative;z-index: 1;}#sk-container-id-1 div.sk-parallel {display: flex;align-items: stretch;justify-content: center;background-color: white;position: relative;}#sk-container-id-1 div.sk-item::before, #sk-container-id-1 div.sk-parallel-item::before {content: \"\";position: absolute;border-left: 1px solid gray;box-sizing: border-box;top: 0;bottom: 0;left: 50%;z-index: -1;}#sk-container-id-1 div.sk-parallel-item {display: flex;flex-direction: column;z-index: 1;position: relative;background-color: white;}#sk-container-id-1 div.sk-parallel-item:first-child::after {align-self: flex-end;width: 50%;}#sk-container-id-1 div.sk-parallel-item:last-child::after {align-self: flex-start;width: 50%;}#sk-container-id-1 div.sk-parallel-item:only-child::after {width: 0;}#sk-container-id-1 div.sk-dashed-wrapped {border: 1px dashed gray;margin: 0 0.4em 0.5em 0.4em;box-sizing: border-box;padding-bottom: 0.4em;background-color: white;}#sk-container-id-1 div.sk-label label {font-family: monospace;font-weight: bold;display: inline-block;line-height: 1.2em;}#sk-container-id-1 div.sk-label-container {text-align: center;}#sk-container-id-1 div.sk-container {/* jupyter's `normalize.less` sets `[hidden] { display: none; }` but bootstrap.min.css set `[hidden] { display: none !important; }` so we also need the `!important` here to be able to override the default hidden behavior on the sphinx rendered scikit-learn.org. See: https://github.com/scikit-learn/scikit-learn/issues/21755 */display: inline-block !important;position: relative;}#sk-container-id-1 div.sk-text-repr-fallback {display: none;}</style><div id=\"sk-container-id-1\" class=\"sk-top-container\"><div class=\"sk-text-repr-fallback\"><pre>GaussianMixture(max_iter=1000, n_components=2)</pre><b>In a Jupyter environment, please rerun this cell to show the HTML representation or trust the notebook. <br />On GitHub, the HTML representation is unable to render, please try loading this page with nbviewer.org.</b></div><div class=\"sk-container\" hidden><div class=\"sk-item\"><div class=\"sk-estimator sk-toggleable\"><input class=\"sk-toggleable__control sk-hidden--visually\" id=\"sk-estimator-id-1\" type=\"checkbox\" checked><label for=\"sk-estimator-id-1\" class=\"sk-toggleable__label sk-toggleable__label-arrow\">GaussianMixture</label><div class=\"sk-toggleable__content\"><pre>GaussianMixture(max_iter=1000, n_components=2)</pre></div></div></div></div></div>"
      ],
      "text/plain": [
       "GaussianMixture(max_iter=1000, n_components=2)"
      ]
     },
     "execution_count": 3,
     "metadata": {},
     "output_type": "execute_result"
    }
   ],
   "source": [
    "model = GaussianMixture(n_components=2, max_iter=1000)\n",
    "model.fit(data)"
   ]
  },
  {
   "cell_type": "code",
   "execution_count": 15,
   "id": "f9f354ef",
   "metadata": {},
   "outputs": [],
   "source": [
    "means = model.means_                # середнє значення ваги деталі\n",
    "stds = np.sqrt(model.covariances_)  # стандартне відхилення деталі\n",
    "stds = stds.reshape(-1, 1)\n",
    "weights = model.weights_            # оцінка ваги приналежності об'єкта до даного кластеру"
   ]
  },
  {
   "cell_type": "code",
   "execution_count": 29,
   "id": "b2233888",
   "metadata": {},
   "outputs": [
    {
     "name": "stdout",
     "output_type": "stream",
     "text": [
      "Середнє значення: \n",
      "Завод 1: 11.90кг, Завод 2: 13.01 кг\n",
      "Стандартне відхилення: \n",
      "Завод 1: 0.64кг, Завод 2 : 0.49 кг\n",
      "Кількість деталей: \n",
      "Завод 1: 0.35, Завод 2 : 0.65\n"
     ]
    }
   ],
   "source": [
    "print(\"Середнє значення: \")\n",
    "print(f\"Завод 1: {means[0][0]:.2f}кг, Завод 2: {means[1][0]:.2f} кг\")\n",
    "print(\"Стандартне відхилення: \")\n",
    "print(f\"Завод 1: {stds[0][0]:.2f}кг, Завод 2 : {stds[1][0]:.2f} кг\")\n",
    "print(\"Ймовірність визначення заводу: \")\n",
    "print(f\"Завод 1: {weights[0]:.2f}, Завод 2 : {weights[1]:.2f}\")\n"
   ]
  },
  {
   "cell_type": "markdown",
   "id": "6110fd94",
   "metadata": {},
   "source": [
    "**Результат виявився для мене досить неочікуваним, але, якщо розібратися, то ймовірність залежить не тільки від кількості, а і від стандартного відхилення. В даному випадку, ваги деталей, що вироблені на заводі 2, мають більше стандартне відхилення, що призводить до більшої невизначенності при виявленні параметрів розподілу ваги деталей.**"
   ]
  }
 ],
 "metadata": {
  "kernelspec": {
   "display_name": "Python 3 (ipykernel)",
   "language": "python",
   "name": "python3"
  },
  "language_info": {
   "codemirror_mode": {
    "name": "ipython",
    "version": 3
   },
   "file_extension": ".py",
   "mimetype": "text/x-python",
   "name": "python",
   "nbconvert_exporter": "python",
   "pygments_lexer": "ipython3",
   "version": "3.11.1"
  }
 },
 "nbformat": 4,
 "nbformat_minor": 5
}
